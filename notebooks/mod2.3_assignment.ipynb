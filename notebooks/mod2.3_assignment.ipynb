{
 "cells": [
  {
   "cell_type": "markdown",
   "id": "c3e69d40",
   "metadata": {},
   "source": [
    "# Assignment\n",
    "\n",
    "### Question 1\n",
    "\n",
    "Question: Implement a simple Thrift server and client that defines a `Student` struct with fields `name` (string), `age` (integer), and `courses` (list of strings). Include a service `School` with a method `enrollCourse` that takes a `Student` record and a course name, adds the course to the student's course list, and returns the updated `Student` record."
   ]
  },
  {
   "cell_type": "code",
   "execution_count": 1,
   "id": "dfa82e96",
   "metadata": {},
   "outputs": [
    {
     "name": "stdout",
     "output_type": "stream",
     "text": [
      "Overwriting ../schema/student.thrift\n"
     ]
    }
   ],
   "source": [
    "%%writefile ../schema/student.thrift\n",
    "\n",
    "struct Student {\n",
    "  1: required string name,\n",
    "  2: optional i64 age,\n",
    "  3: optional list<string> courses\n",
    "}\n",
    "\n",
    "service School {\n",
    "    Student enrollCourse(1: required Student student, 2: required string course)\n",
    "}"
   ]
  },
  {
   "cell_type": "code",
   "execution_count": 2,
   "id": "8a52f7b5",
   "metadata": {},
   "outputs": [
    {
     "name": "stdout",
     "output_type": "stream",
     "text": [
      "Overwriting ../student_thrift_server.py\n"
     ]
    }
   ],
   "source": [
    "%%writefile ../student_thrift_server.py\n",
    "import thriftpy2\n",
    "student_thrift = thriftpy2.load(\"./schema/student.thrift\", module_name=\"student_thrift\")\n",
    "\n",
    "from thriftpy2.rpc import make_server\n",
    "\n",
    "class School(object):\n",
    "    def enrollCourse(self, student, course):\n",
    "        # Initialize courses list if it's None\n",
    "        if student.courses is None:\n",
    "            student.courses = []\n",
    "        student.courses.append(course)\n",
    "        return student\n",
    "\n",
    "server = make_server(student_thrift.School, School(), client_timeout=None)\n",
    "server.serve()"
   ]
  },
  {
   "cell_type": "markdown",
   "id": "af8b7753",
   "metadata": {},
   "source": [
    "Run `python student_thrift_server.py` in a new terminal to start the server"
   ]
  },
  {
   "cell_type": "code",
   "execution_count": 4,
   "id": "3a67b6f8",
   "metadata": {},
   "outputs": [
    {
     "name": "stdout",
     "output_type": "stream",
     "text": [
      "Student(name='John', age=21, courses=None)\n",
      "Student(name='John', age=21, courses=['data science'])\n"
     ]
    }
   ],
   "source": [
    "#import requried thriftpy2, initialise the schema file and make the client\n",
    "import thriftpy2\n",
    "student_thrift = thriftpy2.load(\"../schema/student.thrift\", module_name=\"student_thrift\")\n",
    "\n",
    "from thriftpy2.rpc import make_client\n",
    "\n",
    "school = make_client(student_thrift.School, timeout=None)\n",
    "\n",
    "# create student\n",
    "john = student_thrift.Student(\n",
    "    name=\"John\", age=21\n",
    ")\n",
    "print(john)\n",
    "\n",
    "# enroll student in course\n",
    "john = school.enrollCourse(john, \"data science\")\n",
    "print (john)\n"
   ]
  },
  {
   "cell_type": "markdown",
   "id": "5d257608",
   "metadata": {},
   "source": [
    "### Question 2\n",
    "\n",
    "Question: Implement a simple Protocol Buffers server and client that defines a `Book` message with fields `title` (string), `author` (string), and `page_count` (integer). Include a service `Library` with a method `checkoutBook` that takes a `Book` message and returns the same `Book` message."
   ]
  },
  {
   "cell_type": "code",
   "execution_count": 5,
   "id": "7385036d",
   "metadata": {},
   "outputs": [
    {
     "name": "stdout",
     "output_type": "stream",
     "text": [
      "Overwriting ../schema/book.proto\n"
     ]
    }
   ],
   "source": [
    "%%writefile ../schema/book.proto\n",
    "syntax = \"proto3\";\n",
    "\n",
    "message Book {\n",
    "  string title = 1;\n",
    "  string author= 2;\n",
    "  int64 page_count = 3;\n",
    "  bool is_available = 4;\n",
    "}\n",
    "\n",
    "message CheckoutRequest{\n",
    "  Book book = 1;\n",
    "}\n",
    "\n",
    "\n",
    "service Library {\n",
    "  rpc checkoutBook(CheckoutRequest) returns (Book) {}\n",
    "}"
   ]
  },
  {
   "cell_type": "markdown",
   "id": "b1b9620e",
   "metadata": {},
   "source": [
    "Run the following command in a terminal to generate the Python codes:\n",
    "\n",
    "```bash\n",
    "python -m grpc_tools.protoc -I./schema --python_out=. --grpc_python_out=. ./schema/book.proto\n",
    "```\n",
    "\n",
    "This will generate the following files:\n",
    "\n",
    "```bash\n",
    "book_pb2.py\n",
    "book_pb2_grpc.py\n",
    "```"
   ]
  },
  {
   "cell_type": "code",
   "execution_count": 6,
   "id": "daf2f0e5",
   "metadata": {},
   "outputs": [
    {
     "name": "stdout",
     "output_type": "stream",
     "text": [
      "Overwriting ../book_protobuf_server.py\n"
     ]
    }
   ],
   "source": [
    "%%writefile ../book_protobuf_server.py\n",
    "from concurrent import futures\n",
    "import grpc\n",
    "import book_pb2_grpc\n",
    "\n",
    "\n",
    "class Library(book_pb2_grpc.LibraryServicer):\n",
    "\n",
    "  def checkoutBook(self, request, context):\n",
    "    request.book.is_available = False\n",
    "    return request.book\n",
    "\n",
    "server = grpc.server(futures.ThreadPoolExecutor(max_workers=2))\n",
    "book_pb2_grpc.add_LibraryServicer_to_server(Library(), server)\n",
    "server.add_insecure_port('[::]:50051')\n",
    "server.start()\n",
    "server.wait_for_termination()"
   ]
  },
  {
   "cell_type": "markdown",
   "id": "48d4f92e",
   "metadata": {},
   "source": [
    "Run `python book_protobuf_server.py` in a new terminal to start the server."
   ]
  },
  {
   "cell_type": "code",
   "execution_count": 7,
   "id": "d442822f",
   "metadata": {},
   "outputs": [
    {
     "name": "stdout",
     "output_type": "stream",
     "text": [
      "Title: The Great Gatsby\n",
      "Author: F. Scott Fitzgerald\n",
      "Page count: 180\n",
      "Is available: True\n"
     ]
    }
   ],
   "source": [
    "import sys\n",
    "sys.path.append('..')\n",
    "import grpc\n",
    "import book_pb2\n",
    "import book_pb2_grpc\n",
    "\n",
    "\n",
    "book = book_pb2.Book(title=\"The Great Gatsby\", author=\"F. Scott Fitzgerald\", page_count=180, is_available=True)\n",
    "print(f\"Title: {book.title}\")\n",
    "print(f\"Author: {book.author}\")\n",
    "print(f\"Page count: {book.page_count}\")\n",
    "print(f\"Is available: {book.is_available}\")"
   ]
  },
  {
   "cell_type": "code",
   "execution_count": 8,
   "id": "931797ce",
   "metadata": {},
   "outputs": [
    {
     "name": "stdout",
     "output_type": "stream",
     "text": [
      "Title: The Great Gatsby\n",
      "Author: F. Scott Fitzgerald\n",
      "Page count: 180\n",
      "Is available: False\n"
     ]
    }
   ],
   "source": [
    "with grpc.insecure_channel('localhost:50051') as channel:\n",
    "    stub = book_pb2_grpc.LibraryStub(channel)\n",
    "    updated_book = stub.checkoutBook(book_pb2.CheckoutRequest(book=book))\n",
    "    print(f\"Title: {updated_book.title}\")\n",
    "    print(f\"Author: {updated_book.author}\")\n",
    "    print(f\"Page count: {updated_book.page_count}\")\n",
    "    print(f\"Is available: {updated_book.is_available}\")"
   ]
  }
 ],
 "metadata": {
  "kernelspec": {
   "display_name": "bde",
   "language": "python",
   "name": "python3"
  },
  "language_info": {
   "codemirror_mode": {
    "name": "ipython",
    "version": 3
   },
   "file_extension": ".py",
   "mimetype": "text/x-python",
   "name": "python",
   "nbconvert_exporter": "python",
   "pygments_lexer": "ipython3",
   "version": "3.10.13"
  }
 },
 "nbformat": 4,
 "nbformat_minor": 5
}
